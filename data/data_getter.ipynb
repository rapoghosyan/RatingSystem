{
 "cells": [
  {
   "cell_type": "markdown",
   "metadata": {
    "id": "Yy5nYpEGY-rT"
   },
   "source": [
    "Готовые табицы можно скачать [от сюда](https://drive.google.com/drive/folders/1IC_E-Zw7NybPLD0w6Dhz1lLPabhNR0sP?usp=sharing)\n",
    "\n",
    "Вот [страница игры](https://rating.chgk.info/)\n",
    "\n",
    "Вот [API](http://api.rating.chgk.net/)"
   ]
  },
  {
   "cell_type": "markdown",
   "metadata": {
    "id": "yLClXwIi-u3V"
   },
   "source": [
    "## Открываем сохраненные файлы\n"
   ]
  },
  {
   "cell_type": "code",
   "execution_count": 66,
   "metadata": {
    "id": "R9PlH4tf_YB4"
   },
   "outputs": [],
   "source": [
    "import requests\n",
    "from tqdm import tqdm\n",
    "import pickle\n",
    "from datetime import datetime\n",
    "import pandas as pd"
   ]
  },
  {
   "cell_type": "code",
   "execution_count": 142,
   "metadata": {
    "colab": {
     "base_uri": "https://localhost:8080/"
    },
    "id": "mfd8mT9bZ0bt",
    "outputId": "08fdf852-50cc-458c-e5bf-cbb5729e960a"
   },
   "outputs": [
    {
     "name": "stdout",
     "output_type": "stream",
     "text": [
      "Id турниров, сортированных по возрастанию даты их окончания\n",
      "1000\n"
     ]
    },
    {
     "data": {
      "text/plain": [
       "[6953, 6712, 6809, 6910, 6900, 6899, 6021, 6282, 6691, 6952]"
      ]
     },
     "execution_count": 142,
     "metadata": {},
     "output_type": "execute_result"
    }
   ],
   "source": [
    "with open('tournaments.pkl', 'rb') as f:\n",
    "    tournaments = pickle.load(f)\n",
    "\n",
    "print('Id турниров, сортированных по возрастанию даты их окончания')\n",
    "print(len(tournaments))\n",
    "tournaments[:10]"
   ]
  },
  {
   "cell_type": "code",
   "execution_count": 141,
   "metadata": {
    "colab": {
     "base_uri": "https://localhost:8080/"
    },
    "id": "c0wzUVMPY7O_",
    "outputId": "096e4ae5-8cca-4090-9345-164abc6e0024"
   },
   "outputs": [
    {
     "name": "stdout",
     "output_type": "stream",
     "text": [
      "{турнир : {команда : {'position': позиция команды,\n",
      "                      'teamMembers': состав команды}}\n",
      "Количество турниров - 1000\n",
      "ID 10 турниров - [6953, 6712, 6809, 6910, 6900, 6899, 6021, 6282, 6691, 6952]\n"
     ]
    }
   ],
   "source": [
    "with open('results.pkl', 'rb') as f:\n",
    "    results = pickle.load(f)\n",
    "\n",
    "print('{турнир : {команда : {\\'position\\': позиция команды,\\n',\n",
    "      '                     \\'teamMembers\\': состав команды}}')\n",
    "print('Количество турниров - {}'.format(len(results)))\n",
    "print('ID 10 турниров - {}'.format(list(results.keys())[:10]))"
   ]
  },
  {
   "cell_type": "code",
   "execution_count": 139,
   "metadata": {},
   "outputs": [
    {
     "name": "stdout",
     "output_type": "stream",
     "text": [
      "{турнир : pd.DatFrame с командами и вопросами}\n",
      "Количество турниров - 1000\n",
      "Например для турнира номер 6953\n"
     ]
    },
    {
     "data": {
      "text/html": [
       "<div>\n",
       "<style scoped>\n",
       "    .dataframe tbody tr th:only-of-type {\n",
       "        vertical-align: middle;\n",
       "    }\n",
       "\n",
       "    .dataframe tbody tr th {\n",
       "        vertical-align: top;\n",
       "    }\n",
       "\n",
       "    .dataframe thead th {\n",
       "        text-align: right;\n",
       "    }\n",
       "</style>\n",
       "<table border=\"1\" class=\"dataframe\">\n",
       "  <thead>\n",
       "    <tr style=\"text-align: right;\">\n",
       "      <th></th>\n",
       "      <th>0</th>\n",
       "      <th>1</th>\n",
       "      <th>2</th>\n",
       "      <th>3</th>\n",
       "      <th>4</th>\n",
       "      <th>5</th>\n",
       "      <th>6</th>\n",
       "      <th>7</th>\n",
       "      <th>8</th>\n",
       "      <th>9</th>\n",
       "      <th>...</th>\n",
       "      <th>38</th>\n",
       "      <th>39</th>\n",
       "      <th>40</th>\n",
       "      <th>41</th>\n",
       "      <th>42</th>\n",
       "      <th>43</th>\n",
       "      <th>44</th>\n",
       "      <th>45</th>\n",
       "      <th>46</th>\n",
       "      <th>47</th>\n",
       "    </tr>\n",
       "  </thead>\n",
       "  <tbody>\n",
       "    <tr>\n",
       "      <th>407</th>\n",
       "      <td>1</td>\n",
       "      <td>1</td>\n",
       "      <td>1</td>\n",
       "      <td>0</td>\n",
       "      <td>1</td>\n",
       "      <td>1</td>\n",
       "      <td>1</td>\n",
       "      <td>1</td>\n",
       "      <td>1</td>\n",
       "      <td>1</td>\n",
       "      <td>...</td>\n",
       "      <td>1</td>\n",
       "      <td>1</td>\n",
       "      <td>1</td>\n",
       "      <td>1</td>\n",
       "      <td>0</td>\n",
       "      <td>1</td>\n",
       "      <td>1</td>\n",
       "      <td>1</td>\n",
       "      <td>1</td>\n",
       "      <td>1</td>\n",
       "    </tr>\n",
       "    <tr>\n",
       "      <th>62868</th>\n",
       "      <td>1</td>\n",
       "      <td>1</td>\n",
       "      <td>1</td>\n",
       "      <td>0</td>\n",
       "      <td>1</td>\n",
       "      <td>1</td>\n",
       "      <td>1</td>\n",
       "      <td>0</td>\n",
       "      <td>1</td>\n",
       "      <td>1</td>\n",
       "      <td>...</td>\n",
       "      <td>1</td>\n",
       "      <td>1</td>\n",
       "      <td>1</td>\n",
       "      <td>1</td>\n",
       "      <td>0</td>\n",
       "      <td>1</td>\n",
       "      <td>1</td>\n",
       "      <td>1</td>\n",
       "      <td>1</td>\n",
       "      <td>1</td>\n",
       "    </tr>\n",
       "    <tr>\n",
       "      <th>80492</th>\n",
       "      <td>1</td>\n",
       "      <td>1</td>\n",
       "      <td>1</td>\n",
       "      <td>0</td>\n",
       "      <td>1</td>\n",
       "      <td>1</td>\n",
       "      <td>1</td>\n",
       "      <td>1</td>\n",
       "      <td>1</td>\n",
       "      <td>1</td>\n",
       "      <td>...</td>\n",
       "      <td>1</td>\n",
       "      <td>0</td>\n",
       "      <td>1</td>\n",
       "      <td>1</td>\n",
       "      <td>0</td>\n",
       "      <td>1</td>\n",
       "      <td>1</td>\n",
       "      <td>1</td>\n",
       "      <td>1</td>\n",
       "      <td>1</td>\n",
       "    </tr>\n",
       "    <tr>\n",
       "      <th>4989</th>\n",
       "      <td>1</td>\n",
       "      <td>1</td>\n",
       "      <td>1</td>\n",
       "      <td>0</td>\n",
       "      <td>1</td>\n",
       "      <td>1</td>\n",
       "      <td>1</td>\n",
       "      <td>1</td>\n",
       "      <td>1</td>\n",
       "      <td>1</td>\n",
       "      <td>...</td>\n",
       "      <td>1</td>\n",
       "      <td>0</td>\n",
       "      <td>1</td>\n",
       "      <td>1</td>\n",
       "      <td>0</td>\n",
       "      <td>1</td>\n",
       "      <td>1</td>\n",
       "      <td>1</td>\n",
       "      <td>1</td>\n",
       "      <td>1</td>\n",
       "    </tr>\n",
       "    <tr>\n",
       "      <th>71566</th>\n",
       "      <td>1</td>\n",
       "      <td>1</td>\n",
       "      <td>1</td>\n",
       "      <td>0</td>\n",
       "      <td>1</td>\n",
       "      <td>1</td>\n",
       "      <td>1</td>\n",
       "      <td>1</td>\n",
       "      <td>1</td>\n",
       "      <td>1</td>\n",
       "      <td>...</td>\n",
       "      <td>1</td>\n",
       "      <td>1</td>\n",
       "      <td>1</td>\n",
       "      <td>1</td>\n",
       "      <td>0</td>\n",
       "      <td>1</td>\n",
       "      <td>1</td>\n",
       "      <td>1</td>\n",
       "      <td>1</td>\n",
       "      <td>1</td>\n",
       "    </tr>\n",
       "    <tr>\n",
       "      <th>...</th>\n",
       "      <td>...</td>\n",
       "      <td>...</td>\n",
       "      <td>...</td>\n",
       "      <td>...</td>\n",
       "      <td>...</td>\n",
       "      <td>...</td>\n",
       "      <td>...</td>\n",
       "      <td>...</td>\n",
       "      <td>...</td>\n",
       "      <td>...</td>\n",
       "      <td>...</td>\n",
       "      <td>...</td>\n",
       "      <td>...</td>\n",
       "      <td>...</td>\n",
       "      <td>...</td>\n",
       "      <td>...</td>\n",
       "      <td>...</td>\n",
       "      <td>...</td>\n",
       "      <td>...</td>\n",
       "      <td>...</td>\n",
       "      <td>...</td>\n",
       "    </tr>\n",
       "    <tr>\n",
       "      <th>53700</th>\n",
       "      <td>0</td>\n",
       "      <td>0</td>\n",
       "      <td>1</td>\n",
       "      <td>0</td>\n",
       "      <td>0</td>\n",
       "      <td>1</td>\n",
       "      <td>0</td>\n",
       "      <td>0</td>\n",
       "      <td>0</td>\n",
       "      <td>1</td>\n",
       "      <td>...</td>\n",
       "      <td>1</td>\n",
       "      <td>0</td>\n",
       "      <td>1</td>\n",
       "      <td>1</td>\n",
       "      <td>0</td>\n",
       "      <td>0</td>\n",
       "      <td>0</td>\n",
       "      <td>1</td>\n",
       "      <td>1</td>\n",
       "      <td>0</td>\n",
       "    </tr>\n",
       "    <tr>\n",
       "      <th>79610</th>\n",
       "      <td>0</td>\n",
       "      <td>0</td>\n",
       "      <td>1</td>\n",
       "      <td>0</td>\n",
       "      <td>1</td>\n",
       "      <td>0</td>\n",
       "      <td>0</td>\n",
       "      <td>1</td>\n",
       "      <td>0</td>\n",
       "      <td>0</td>\n",
       "      <td>...</td>\n",
       "      <td>1</td>\n",
       "      <td>0</td>\n",
       "      <td>1</td>\n",
       "      <td>1</td>\n",
       "      <td>0</td>\n",
       "      <td>0</td>\n",
       "      <td>0</td>\n",
       "      <td>0</td>\n",
       "      <td>1</td>\n",
       "      <td>0</td>\n",
       "    </tr>\n",
       "    <tr>\n",
       "      <th>78567</th>\n",
       "      <td>0</td>\n",
       "      <td>0</td>\n",
       "      <td>0</td>\n",
       "      <td>0</td>\n",
       "      <td>0</td>\n",
       "      <td>1</td>\n",
       "      <td>0</td>\n",
       "      <td>1</td>\n",
       "      <td>0</td>\n",
       "      <td>0</td>\n",
       "      <td>...</td>\n",
       "      <td>0</td>\n",
       "      <td>0</td>\n",
       "      <td>1</td>\n",
       "      <td>0</td>\n",
       "      <td>0</td>\n",
       "      <td>0</td>\n",
       "      <td>0</td>\n",
       "      <td>0</td>\n",
       "      <td>0</td>\n",
       "      <td>0</td>\n",
       "    </tr>\n",
       "    <tr>\n",
       "      <th>66245</th>\n",
       "      <td>0</td>\n",
       "      <td>0</td>\n",
       "      <td>0</td>\n",
       "      <td>0</td>\n",
       "      <td>0</td>\n",
       "      <td>0</td>\n",
       "      <td>0</td>\n",
       "      <td>0</td>\n",
       "      <td>0</td>\n",
       "      <td>1</td>\n",
       "      <td>...</td>\n",
       "      <td>1</td>\n",
       "      <td>0</td>\n",
       "      <td>0</td>\n",
       "      <td>1</td>\n",
       "      <td>0</td>\n",
       "      <td>1</td>\n",
       "      <td>0</td>\n",
       "      <td>0</td>\n",
       "      <td>1</td>\n",
       "      <td>0</td>\n",
       "    </tr>\n",
       "    <tr>\n",
       "      <th>58860</th>\n",
       "      <td>0</td>\n",
       "      <td>0</td>\n",
       "      <td>0</td>\n",
       "      <td>0</td>\n",
       "      <td>0</td>\n",
       "      <td>1</td>\n",
       "      <td>0</td>\n",
       "      <td>0</td>\n",
       "      <td>0</td>\n",
       "      <td>0</td>\n",
       "      <td>...</td>\n",
       "      <td>0</td>\n",
       "      <td>0</td>\n",
       "      <td>1</td>\n",
       "      <td>1</td>\n",
       "      <td>0</td>\n",
       "      <td>0</td>\n",
       "      <td>0</td>\n",
       "      <td>0</td>\n",
       "      <td>1</td>\n",
       "      <td>0</td>\n",
       "    </tr>\n",
       "  </tbody>\n",
       "</table>\n",
       "<p>114 rows × 48 columns</p>\n",
       "</div>"
      ],
      "text/plain": [
       "      0  1  2  3  4  5  6  7  8  9   ... 38 39 40 41 42 43 44 45 46 47\n",
       "407    1  1  1  0  1  1  1  1  1  1  ...  1  1  1  1  0  1  1  1  1  1\n",
       "62868  1  1  1  0  1  1  1  0  1  1  ...  1  1  1  1  0  1  1  1  1  1\n",
       "80492  1  1  1  0  1  1  1  1  1  1  ...  1  0  1  1  0  1  1  1  1  1\n",
       "4989   1  1  1  0  1  1  1  1  1  1  ...  1  0  1  1  0  1  1  1  1  1\n",
       "71566  1  1  1  0  1  1  1  1  1  1  ...  1  1  1  1  0  1  1  1  1  1\n",
       "...   .. .. .. .. .. .. .. .. .. ..  ... .. .. .. .. .. .. .. .. .. ..\n",
       "53700  0  0  1  0  0  1  0  0  0  1  ...  1  0  1  1  0  0  0  1  1  0\n",
       "79610  0  0  1  0  1  0  0  1  0  0  ...  1  0  1  1  0  0  0  0  1  0\n",
       "78567  0  0  0  0  0  1  0  1  0  0  ...  0  0  1  0  0  0  0  0  0  0\n",
       "66245  0  0  0  0  0  0  0  0  0  1  ...  1  0  0  1  0  1  0  0  1  0\n",
       "58860  0  0  0  0  0  1  0  0  0  0  ...  0  0  1  1  0  0  0  0  1  0\n",
       "\n",
       "[114 rows x 48 columns]"
      ]
     },
     "execution_count": 139,
     "metadata": {},
     "output_type": "execute_result"
    }
   ],
   "source": [
    "with open('answers.pkl', 'rb') as f:\n",
    "    answers = pickle.load(f)\n",
    "\n",
    "print('{турнир : pd.DatFrame с командами и вопросами}')\n",
    "print('Количество турниров - {}'.format(len(results)))\n",
    "id_tournament = list(answers.keys())[0]\n",
    "print('Например для турнира номер {}'.format(id_tournament))\n",
    "answers[id_tournament]"
   ]
  },
  {
   "cell_type": "code",
   "execution_count": 140,
   "metadata": {
    "colab": {
     "base_uri": "https://localhost:8080/"
    },
    "id": "0WQL9ETfVVYg",
    "outputId": "c2afaba3-129a-4ccb-afde-c4a855259bf9"
   },
   "outputs": [
    {
     "name": "stdout",
     "output_type": "stream",
     "text": [
      "{Игрок : скилл}\n",
      "Количество игрков - 61348\n",
      "ID 10 игроков - [24341, 26173, 29989, 60149, 56814, 14821, 9801, 72160, 86775, 24850]\n"
     ]
    }
   ],
   "source": [
    "with open('players.pkl', 'rb') as f:\n",
    "    players = pickle.load(f)\n",
    "\n",
    "print('{Игрок : скилл}')\n",
    "print('Количество игрков - {}'.format(len(players)))\n",
    "print('ID 10 игроков - {}'.format(list(players.keys())[:10]))"
   ]
  },
  {
   "cell_type": "markdown",
   "metadata": {
    "id": "8HNKEgSmbO0S"
   },
   "source": [
    "## Реализуем 2 функции\n",
    "\n",
    "1) Результат команды по его Id и Id турнира (вернёт -1, если такого не существует)\n",
    "\n",
    "2) Id участников по Id команды и Id турнира (вернёт пустой лист, если такого не существует)"
   ]
  },
  {
   "cell_type": "code",
   "execution_count": 6,
   "metadata": {
    "id": "3vwkdYnHgL09"
   },
   "outputs": [],
   "source": [
    "with open('results.pkl', 'rb') as f:\n",
    "    RESULTS = pickle.load(f)\n",
    "\n",
    "def TeamPosInTournament(id_team, id_tournament):\n",
    "    \"\"\"\n",
    "    :param id_team: ID команды\n",
    "    :param id_tournament: ID турнира\n",
    "    \"\"\"\n",
    "    if id_tournament not in RESULTS or id_team not in RESULTS[id_tournament]:\n",
    "        return -1\n",
    "    return results[id_tournament][id_team]['position']\n",
    "\n",
    "def IdMembersOfTeam(id_team, id_tournament):\n",
    "    \"\"\"\n",
    "    :param id_team: ID команды\n",
    "    :param id_tournament: ID турнира\n",
    "    \"\"\"\n",
    "    if id_tournament not in RESULTS or id_team not in RESULTS[id_tournament]:\n",
    "        return -1\n",
    "    return results[id_tournament][id_team]['teamMembers']"
   ]
  },
  {
   "cell_type": "code",
   "execution_count": 7,
   "metadata": {
    "colab": {
     "base_uri": "https://localhost:8080/"
    },
    "id": "JCTrpc7jg2vF",
    "outputId": "12f40103-7f0d-4686-8eff-80b9bb730528"
   },
   "outputs": [
    {
     "data": {
      "text/plain": [
       "1"
      ]
     },
     "execution_count": 7,
     "metadata": {},
     "output_type": "execute_result"
    }
   ],
   "source": [
    "TeamPosInTournament(200, 3579)"
   ]
  },
  {
   "cell_type": "code",
   "execution_count": 8,
   "metadata": {
    "colab": {
     "base_uri": "https://localhost:8080/"
    },
    "id": "wkR1SRBVjI6u",
    "outputId": "fad21a76-6d77-425c-97cf-a7e5d8cf6c9e"
   },
   "outputs": [
    {
     "data": {
      "text/plain": [
       "[35716, 34364, 4372, 23185]"
      ]
     },
     "execution_count": 8,
     "metadata": {},
     "output_type": "execute_result"
    }
   ],
   "source": [
    "IdMembersOfTeam(200, 3579)"
   ]
  },
  {
   "cell_type": "markdown",
   "metadata": {
    "id": "gGiN7ZPCDycn"
   },
   "source": [
    "# Тут читается информация про турниров."
   ]
  },
  {
   "cell_type": "code",
   "execution_count": 18,
   "metadata": {
    "colab": {
     "base_uri": "https://localhost:8080/"
    },
    "id": "aRW_wvoKDycu",
    "outputId": "85de76c6-3785-4740-c2a1-8ad4d47f7405"
   },
   "outputs": [
    {
     "data": {
      "text/plain": [
       "<Response [200]>"
      ]
     },
     "execution_count": 18,
     "metadata": {},
     "output_type": "execute_result"
    }
   ],
   "source": [
    "endpoint = \"http://api.rating.chgk.net/tournaments\"\n",
    "params = {}\n",
    "response = requests.get(endpoint, params=params)\n",
    "response"
   ]
  },
  {
   "cell_type": "code",
   "execution_count": 19,
   "metadata": {
    "id": "hZIV9VGaDycu"
   },
   "outputs": [],
   "source": [
    "my_dict = response.json()"
   ]
  },
  {
   "cell_type": "code",
   "execution_count": 20,
   "metadata": {
    "colab": {
     "base_uri": "https://localhost:8080/"
    },
    "id": "HiFwUErvDycu",
    "outputId": "062f5a78-9712-4f04-dc1f-9d56c2cadd8c"
   },
   "outputs": [
    {
     "name": "stdout",
     "output_type": "stream",
     "text": [
      "@context -> /contexts/Tournament\n",
      "@id -> /tournaments\n",
      "@type -> hydra:Collection\n",
      "hydra:member -> <class 'list'> len - 30\n",
      "hydra:totalItems -> 6833\n",
      "hydra:view -> <class 'dict'> len - 5\n",
      "hydra:search -> <class 'dict'> len - 4\n"
     ]
    }
   ],
   "source": [
    "for elem in my_dict: print(elem, f'-> {my_dict[elem]}' if isinstance(my_dict[elem], (int, str)) else f'-> {type(my_dict[elem])} len - {len(my_dict[elem])}')"
   ]
  },
  {
   "cell_type": "code",
   "execution_count": 21,
   "metadata": {
    "colab": {
     "base_uri": "https://localhost:8080/"
    },
    "id": "SM5JADcsDycu",
    "outputId": "6bcd6a84-8ffc-40a6-f2c9-0e1b0f301830"
   },
   "outputs": [
    {
     "name": "stdout",
     "output_type": "stream",
     "text": [
      "count of tournaments - 6833\n"
     ]
    }
   ],
   "source": [
    "tm_c = my_dict['hydra:totalItems']\n",
    "print('count of tournaments -', tm_c)"
   ]
  },
  {
   "cell_type": "code",
   "execution_count": 22,
   "metadata": {
    "colab": {
     "base_uri": "https://localhost:8080/"
    },
    "id": "bdhXiVE4Dycu",
    "outputId": "a3737542-08a4-4152-e3ac-b87a8a8eddcc"
   },
   "outputs": [
    {
     "name": "stdout",
     "output_type": "stream",
     "text": [
      "last_page - 228\n"
     ]
    }
   ],
   "source": [
    "last_page = tm_c // 30 + (1 if tm_c % 30 != 0 else 0)\n",
    "print('last_page -', last_page)"
   ]
  },
  {
   "cell_type": "code",
   "execution_count": 23,
   "metadata": {
    "colab": {
     "base_uri": "https://localhost:8080/"
    },
    "id": "rVD3tsiBDycv",
    "outputId": "436f78cd-1b13-48b8-d3ea-ed33ffc6216c"
   },
   "outputs": [
    {
     "data": {
      "text/plain": [
       "{'@id': '/tournaments/1',\n",
       " '@type': 'Tournament',\n",
       " 'id': 1,\n",
       " 'name': 'Чемпионат Южного Кавказа',\n",
       " 'lastEditDate': '2003-07-25T00:00:00+04:00',\n",
       " 'dateStart': '2003-07-25T00:00:00+04:00',\n",
       " 'dateEnd': '2003-07-27T00:00:00+04:00',\n",
       " 'type': {'@id': '/tournament_types/2',\n",
       "  '@type': 'TournamentType',\n",
       "  'id': 2,\n",
       "  'name': 'Обычный'},\n",
       " 'season': '/seasons/1',\n",
       " 'orgcommittee': [],\n",
       " 'synchData': None,\n",
       " 'mainPayment': None,\n",
       " 'discountedPayment': None,\n",
       " 'discountedPaymentReason': None,\n",
       " 'currency': 'u',\n",
       " 'editors': [],\n",
       " 'tournamentInRatingBalanced': True,\n",
       " 'difficultyForecast': None,\n",
       " 'maiiAegis': False,\n",
       " 'maiiAegisUpdatedAt': None,\n",
       " 'maiiRating': False,\n",
       " 'maiiRatingUpdatedAt': None,\n",
       " 'questionQty': None}"
      ]
     },
     "execution_count": 23,
     "metadata": {},
     "output_type": "execute_result"
    }
   ],
   "source": [
    "my_dict['hydra:member'][0]"
   ]
  },
  {
   "cell_type": "code",
   "execution_count": 35,
   "metadata": {
    "colab": {
     "base_uri": "https://localhost:8080/"
    },
    "id": "uaZG5k4jDycv",
    "outputId": "ddeacdf5-b3cb-402f-9755-43ec2f437a6c"
   },
   "outputs": [
    {
     "name": "stderr",
     "output_type": "stream",
     "text": [
      "100%|██████████| 228/228 [01:21<00:00,  2.79it/s]\n"
     ]
    }
   ],
   "source": [
    "endpoint = \"http://api.rating.chgk.net/tournaments\"\n",
    "params = {\"page\": None}\n",
    "tournaments = []\n",
    "for page in tqdm(range(1, last_page+1)):\n",
    "    params['page'] = page\n",
    "    response = requests.get(endpoint, params=params)\n",
    "    for tournament in response.json()['hydra:member']:\n",
    "        dateStart = datetime.strptime(tournament['dateStart'][:10], \"%Y-%m-%d\")\n",
    "        dateEnd = datetime.strptime(tournament['dateEnd'][:10], \"%Y-%m-%d\")\n",
    "        if 2017 <= dateStart.year and (dateEnd - dateStart).days <= 14:\n",
    "            tournaments.append([tournament['dateEnd'],\n",
    "                                tournament['id']\n",
    "                                ])"
   ]
  },
  {
   "cell_type": "code",
   "execution_count": 30,
   "metadata": {},
   "outputs": [
    {
     "data": {
      "text/plain": [
       "2667"
      ]
     },
     "execution_count": 30,
     "metadata": {},
     "output_type": "execute_result"
    }
   ],
   "source": [
    "len(tournaments)"
   ]
  },
  {
   "cell_type": "code",
   "execution_count": 52,
   "metadata": {
    "colab": {
     "base_uri": "https://localhost:8080/"
    },
    "id": "qFSxicLlDycv",
    "outputId": "2d352533-a053-492e-ba1f-d78613f3da0a"
   },
   "outputs": [
    {
     "data": {
      "text/plain": [
       "[['2020-12-28T22:00:00+03:00', 6953],\n",
       " ['2020-12-27T23:59:00+03:00', 6712],\n",
       " ['2020-12-27T20:00:00+03:00', 6809],\n",
       " ['2020-12-27T16:30:00+03:00', 6910],\n",
       " ['2020-12-26T17:00:00+03:00', 6900],\n",
       " ['2020-12-25T20:00:00+03:00', 6899],\n",
       " ['2020-12-24T23:55:00+03:00', 6021],\n",
       " ['2020-12-22T23:59:00+03:00', 6282],\n",
       " ['2020-12-21T23:59:00+03:00', 6691],\n",
       " ['2020-12-21T22:00:00+03:00', 6952]]"
      ]
     },
     "execution_count": 52,
     "metadata": {},
     "output_type": "execute_result"
    }
   ],
   "source": [
    "tournaments = sorted(tournaments, reverse=True)[634: 1634]\n",
    "tournaments[:10]"
   ]
  },
  {
   "cell_type": "code",
   "execution_count": 54,
   "metadata": {
    "colab": {
     "base_uri": "https://localhost:8080/"
    },
    "id": "nuAoIYgI-jwB",
    "outputId": "bcb70411-caca-4395-b985-1157556e0e15"
   },
   "outputs": [
    {
     "name": "stderr",
     "output_type": "stream",
     "text": [
      "100%|██████████| 1000/1000 [00:00<00:00, 1290555.08it/s]\n"
     ]
    }
   ],
   "source": [
    "for i in tqdm(range(len(tournaments))):\n",
    "    tournaments[i] = tournaments[i][1]"
   ]
  },
  {
   "cell_type": "code",
   "execution_count": 55,
   "metadata": {
    "colab": {
     "base_uri": "https://localhost:8080/"
    },
    "id": "3S413s6M_uQo",
    "outputId": "7560e016-cf79-4f3d-c75c-7083536ff17a"
   },
   "outputs": [
    {
     "data": {
      "text/plain": [
       "[6953, 6712, 6809, 6910, 6900, 6899, 6021, 6282, 6691, 6952]"
      ]
     },
     "execution_count": 55,
     "metadata": {},
     "output_type": "execute_result"
    }
   ],
   "source": [
    "tournaments[:10]"
   ]
  },
  {
   "cell_type": "code",
   "execution_count": 56,
   "metadata": {
    "id": "5dxl0HT6zjnX"
   },
   "outputs": [],
   "source": [
    "with open(\"tournaments.pkl\",\"wb\") as f:\n",
    "    pickle.dump(tournaments, f)"
   ]
  },
  {
   "cell_type": "markdown",
   "metadata": {
    "id": "tj4thqzQOC4J"
   },
   "source": [
    "# Тут читается информация про результатов турнира и про его участников."
   ]
  },
  {
   "cell_type": "code",
   "execution_count": 57,
   "metadata": {
    "colab": {
     "base_uri": "https://localhost:8080/"
    },
    "id": "lbDOWxWZOC4k",
    "outputId": "d5a14224-9b85-4942-858f-06e6cd8183da"
   },
   "outputs": [
    {
     "data": {
      "text/plain": [
       "<Response [200]>"
      ]
     },
     "execution_count": 57,
     "metadata": {},
     "output_type": "execute_result"
    }
   ],
   "source": [
    "id_tournament = \"6953\"\n",
    "params = {'includeTeamMembers': 1, 'includeMasksAndControversials': 1}\n",
    "endpoint = f\"http://api.rating.chgk.net/tournaments/{id_tournament}/results\"\n",
    "response = requests.get(endpoint, params=params)\n",
    "response"
   ]
  },
  {
   "cell_type": "code",
   "execution_count": 58,
   "metadata": {
    "id": "b6v9vF5aOC4l"
   },
   "outputs": [],
   "source": [
    "my_dict = response.json()"
   ]
  },
  {
   "cell_type": "code",
   "execution_count": 59,
   "metadata": {
    "colab": {
     "base_uri": "https://localhost:8080/"
    },
    "id": "B5H9m0DJOC4l",
    "outputId": "c6f58572-3e72-4c12-f0ae-1a1592fe0048"
   },
   "outputs": [
    {
     "name": "stdout",
     "output_type": "stream",
     "text": [
      "@context -> /contexts/Results\n",
      "@id -> /tournaments/6953/results\n",
      "@type -> hydra:Collection\n",
      "hydra:member -> <class 'list'> len - 114\n",
      "hydra:totalItems -> 114\n",
      "hydra:view -> <class 'dict'> len - 2\n"
     ]
    }
   ],
   "source": [
    "for elem in my_dict: print(elem, f'-> {my_dict[elem]}' if isinstance(my_dict[elem], (int, str)) else f'-> {type(my_dict[elem])} len - {len(my_dict[elem])}')"
   ]
  },
  {
   "cell_type": "code",
   "execution_count": 60,
   "metadata": {
    "colab": {
     "base_uri": "https://localhost:8080/"
    },
    "id": "Gpx8LqfvOC4m",
    "outputId": "471dd04c-075a-4213-a0c5-f8c7c54b59bd",
    "scrolled": true
   },
   "outputs": [
    {
     "data": {
      "text/plain": [
       "dict_keys(['@id', '@type', 'team', 'mask', 'current', 'questionsTotal', 'synchRequest', 'position', 'controversials', 'teamMembers'])"
      ]
     },
     "execution_count": 60,
     "metadata": {},
     "output_type": "execute_result"
    }
   ],
   "source": [
    "my_team_res = my_dict['hydra:member'][0]\n",
    "my_team_res.keys()"
   ]
  },
  {
   "cell_type": "code",
   "execution_count": 61,
   "metadata": {
    "colab": {
     "base_uri": "https://localhost:8080/"
    },
    "id": "xfprQIp6GhoE",
    "outputId": "55fa4a8a-d557-4c36-f8d1-30407d4d555a"
   },
   "outputs": [
    {
     "data": {
      "text/plain": [
       "1"
      ]
     },
     "execution_count": 61,
     "metadata": {},
     "output_type": "execute_result"
    }
   ],
   "source": [
    "my_team_res['position']"
   ]
  },
  {
   "cell_type": "code",
   "execution_count": 62,
   "metadata": {
    "colab": {
     "base_uri": "https://localhost:8080/"
    },
    "id": "m2RDkN5nHAnk",
    "outputId": "356fdaf0-d11b-4023-d2b2-13d9e6fac737"
   },
   "outputs": [
    {
     "data": {
      "text/plain": [
       "{'@id': '/teams/407',\n",
       " '@type': 'Team',\n",
       " 'id': 407,\n",
       " 'name': 'Тачанка',\n",
       " 'town': {'@id': '/towns/277',\n",
       "  '@type': 'Town',\n",
       "  'id': 277,\n",
       "  'name': 'Ростов-на-Дону'}}"
      ]
     },
     "execution_count": 62,
     "metadata": {},
     "output_type": "execute_result"
    }
   ],
   "source": [
    "my_team_res['team']"
   ]
  },
  {
   "cell_type": "code",
   "execution_count": 63,
   "metadata": {},
   "outputs": [
    {
     "data": {
      "text/plain": [
       "{'@id': '/team_members/24341',\n",
       " '@type': 'TeamMember',\n",
       " 'flag': None,\n",
       " 'usedRating': 8544,\n",
       " 'rating': 12518,\n",
       " 'player': {'@id': '/players/24341',\n",
       "  '@type': 'Player',\n",
       "  'id': 24341,\n",
       "  'name': 'Даниил',\n",
       "  'patronymic': 'Владимирович',\n",
       "  'surname': 'Пахомов'}}"
      ]
     },
     "execution_count": 63,
     "metadata": {},
     "output_type": "execute_result"
    }
   ],
   "source": [
    "my_team_res['teamMembers'][0]"
   ]
  },
  {
   "cell_type": "code",
   "execution_count": 64,
   "metadata": {},
   "outputs": [
    {
     "data": {
      "text/plain": [
       "'111011111111111111110110111011111111111111011111'"
      ]
     },
     "execution_count": 64,
     "metadata": {},
     "output_type": "execute_result"
    }
   ],
   "source": [
    "my_team_res['mask']"
   ]
  },
  {
   "cell_type": "code",
   "execution_count": 117,
   "metadata": {
    "colab": {
     "base_uri": "https://localhost:8080/"
    },
    "id": "R6qJUgb3OC4p",
    "outputId": "b04d9260-83bb-4805-af46-9185a4f9743c"
   },
   "outputs": [
    {
     "name": "stderr",
     "output_type": "stream",
     "text": [
      "100%|██████████| 1000/1000 [04:32<00:00,  3.67it/s]\n"
     ]
    }
   ],
   "source": [
    "results = {}\n",
    "players = {}\n",
    "answers = {}\n",
    "errors = []\n",
    "\n",
    "with open('tournaments.pkl', 'rb') as f:\n",
    "    tournaments = pickle.load(f)\n",
    "\n",
    "params = {'includeTeamMembers': 1, 'includeMasksAndControversials': 1}\n",
    "endpoint = 'http://api.rating.chgk.net/tournaments/{}/results'\n",
    "    \n",
    "for id_tournament in tqdm(tournaments):\n",
    "    results[id_tournament] = {}\n",
    "    answers[id_tournament] = {}\n",
    "    max_mask_len = 0\n",
    "\n",
    "    response = requests.get(endpoint.format(id_tournament),\n",
    "                            params=params)\n",
    "    \n",
    "    for team in response.json()['hydra:member']:\n",
    "        mask = team['mask']\n",
    "        id_team = team['team']['id']\n",
    "        \n",
    "        if mask:\n",
    "            list_mask = list(mask)\n",
    "            if max_mask_len == 0:\n",
    "                max_mask_len = len(list_mask)\n",
    "            elif len(list_mask) > max_mask_len:\n",
    "                errors.append(id_tournament)\n",
    "                max_mask_len = len(list_mask)\n",
    "                for elem in answers[id_tournament]:\n",
    "                    while len(answers[id_tournament][elem]) < max_mask_len:\n",
    "                        answers[id_tournament][elem].append(0)\n",
    "            elif len(list_mask) < max_mask_len:\n",
    "                errors.append(id_tournament)\n",
    "                while len(list_mask) < max_mask_len:\n",
    "                    list_mask.append(0)\n",
    "            answers[id_tournament][id_team] = list(list_mask)\n",
    "            \n",
    "            results[id_tournament][id_team] = {'position': team['position'],\n",
    "                                               'teamMembers': []}\n",
    "\n",
    "            for player in team['teamMembers']:\n",
    "                id_player = player['player']['id']\n",
    "                results[id_tournament][id_team]['teamMembers'].append(id_player)\n",
    "                players[id_player] = 0\n",
    "    \n",
    "    answers[id_tournament] = pd.DataFrame(answers[id_tournament]).transpose()"
   ]
  },
  {
   "cell_type": "code",
   "execution_count": 119,
   "metadata": {},
   "outputs": [
    {
     "data": {
      "text/plain": [
       "{6026, 6090}"
      ]
     },
     "execution_count": 119,
     "metadata": {},
     "output_type": "execute_result"
    }
   ],
   "source": [
    "set(errors)"
   ]
  },
  {
   "cell_type": "code",
   "execution_count": 120,
   "metadata": {
    "colab": {
     "base_uri": "https://localhost:8080/"
    },
    "id": "YKPQ1Vj2OC4p",
    "outputId": "ce7c6233-0cf0-488d-9010-275cd51bcfa9",
    "scrolled": true
   },
   "outputs": [
    {
     "name": "stdout",
     "output_type": "stream",
     "text": [
      "1000\n",
      "1000\n",
      "61348\n"
     ]
    }
   ],
   "source": [
    "print(len(results))\n",
    "print(len(answers))\n",
    "print(len(players))"
   ]
  },
  {
   "cell_type": "code",
   "execution_count": 124,
   "metadata": {},
   "outputs": [
    {
     "data": {
      "text/html": [
       "<div>\n",
       "<style scoped>\n",
       "    .dataframe tbody tr th:only-of-type {\n",
       "        vertical-align: middle;\n",
       "    }\n",
       "\n",
       "    .dataframe tbody tr th {\n",
       "        vertical-align: top;\n",
       "    }\n",
       "\n",
       "    .dataframe thead th {\n",
       "        text-align: right;\n",
       "    }\n",
       "</style>\n",
       "<table border=\"1\" class=\"dataframe\">\n",
       "  <thead>\n",
       "    <tr style=\"text-align: right;\">\n",
       "      <th></th>\n",
       "      <th>0</th>\n",
       "      <th>1</th>\n",
       "      <th>2</th>\n",
       "      <th>3</th>\n",
       "      <th>4</th>\n",
       "      <th>5</th>\n",
       "      <th>6</th>\n",
       "      <th>7</th>\n",
       "      <th>8</th>\n",
       "      <th>9</th>\n",
       "      <th>...</th>\n",
       "      <th>38</th>\n",
       "      <th>39</th>\n",
       "      <th>40</th>\n",
       "      <th>41</th>\n",
       "      <th>42</th>\n",
       "      <th>43</th>\n",
       "      <th>44</th>\n",
       "      <th>45</th>\n",
       "      <th>46</th>\n",
       "      <th>47</th>\n",
       "    </tr>\n",
       "  </thead>\n",
       "  <tbody>\n",
       "    <tr>\n",
       "      <th>407</th>\n",
       "      <td>1</td>\n",
       "      <td>1</td>\n",
       "      <td>1</td>\n",
       "      <td>0</td>\n",
       "      <td>1</td>\n",
       "      <td>1</td>\n",
       "      <td>1</td>\n",
       "      <td>1</td>\n",
       "      <td>1</td>\n",
       "      <td>1</td>\n",
       "      <td>...</td>\n",
       "      <td>1</td>\n",
       "      <td>1</td>\n",
       "      <td>1</td>\n",
       "      <td>1</td>\n",
       "      <td>0</td>\n",
       "      <td>1</td>\n",
       "      <td>1</td>\n",
       "      <td>1</td>\n",
       "      <td>1</td>\n",
       "      <td>1</td>\n",
       "    </tr>\n",
       "    <tr>\n",
       "      <th>62868</th>\n",
       "      <td>1</td>\n",
       "      <td>1</td>\n",
       "      <td>1</td>\n",
       "      <td>0</td>\n",
       "      <td>1</td>\n",
       "      <td>1</td>\n",
       "      <td>1</td>\n",
       "      <td>0</td>\n",
       "      <td>1</td>\n",
       "      <td>1</td>\n",
       "      <td>...</td>\n",
       "      <td>1</td>\n",
       "      <td>1</td>\n",
       "      <td>1</td>\n",
       "      <td>1</td>\n",
       "      <td>0</td>\n",
       "      <td>1</td>\n",
       "      <td>1</td>\n",
       "      <td>1</td>\n",
       "      <td>1</td>\n",
       "      <td>1</td>\n",
       "    </tr>\n",
       "    <tr>\n",
       "      <th>80492</th>\n",
       "      <td>1</td>\n",
       "      <td>1</td>\n",
       "      <td>1</td>\n",
       "      <td>0</td>\n",
       "      <td>1</td>\n",
       "      <td>1</td>\n",
       "      <td>1</td>\n",
       "      <td>1</td>\n",
       "      <td>1</td>\n",
       "      <td>1</td>\n",
       "      <td>...</td>\n",
       "      <td>1</td>\n",
       "      <td>0</td>\n",
       "      <td>1</td>\n",
       "      <td>1</td>\n",
       "      <td>0</td>\n",
       "      <td>1</td>\n",
       "      <td>1</td>\n",
       "      <td>1</td>\n",
       "      <td>1</td>\n",
       "      <td>1</td>\n",
       "    </tr>\n",
       "    <tr>\n",
       "      <th>4989</th>\n",
       "      <td>1</td>\n",
       "      <td>1</td>\n",
       "      <td>1</td>\n",
       "      <td>0</td>\n",
       "      <td>1</td>\n",
       "      <td>1</td>\n",
       "      <td>1</td>\n",
       "      <td>1</td>\n",
       "      <td>1</td>\n",
       "      <td>1</td>\n",
       "      <td>...</td>\n",
       "      <td>1</td>\n",
       "      <td>0</td>\n",
       "      <td>1</td>\n",
       "      <td>1</td>\n",
       "      <td>0</td>\n",
       "      <td>1</td>\n",
       "      <td>1</td>\n",
       "      <td>1</td>\n",
       "      <td>1</td>\n",
       "      <td>1</td>\n",
       "    </tr>\n",
       "    <tr>\n",
       "      <th>71566</th>\n",
       "      <td>1</td>\n",
       "      <td>1</td>\n",
       "      <td>1</td>\n",
       "      <td>0</td>\n",
       "      <td>1</td>\n",
       "      <td>1</td>\n",
       "      <td>1</td>\n",
       "      <td>1</td>\n",
       "      <td>1</td>\n",
       "      <td>1</td>\n",
       "      <td>...</td>\n",
       "      <td>1</td>\n",
       "      <td>1</td>\n",
       "      <td>1</td>\n",
       "      <td>1</td>\n",
       "      <td>0</td>\n",
       "      <td>1</td>\n",
       "      <td>1</td>\n",
       "      <td>1</td>\n",
       "      <td>1</td>\n",
       "      <td>1</td>\n",
       "    </tr>\n",
       "    <tr>\n",
       "      <th>...</th>\n",
       "      <td>...</td>\n",
       "      <td>...</td>\n",
       "      <td>...</td>\n",
       "      <td>...</td>\n",
       "      <td>...</td>\n",
       "      <td>...</td>\n",
       "      <td>...</td>\n",
       "      <td>...</td>\n",
       "      <td>...</td>\n",
       "      <td>...</td>\n",
       "      <td>...</td>\n",
       "      <td>...</td>\n",
       "      <td>...</td>\n",
       "      <td>...</td>\n",
       "      <td>...</td>\n",
       "      <td>...</td>\n",
       "      <td>...</td>\n",
       "      <td>...</td>\n",
       "      <td>...</td>\n",
       "      <td>...</td>\n",
       "      <td>...</td>\n",
       "    </tr>\n",
       "    <tr>\n",
       "      <th>53700</th>\n",
       "      <td>0</td>\n",
       "      <td>0</td>\n",
       "      <td>1</td>\n",
       "      <td>0</td>\n",
       "      <td>0</td>\n",
       "      <td>1</td>\n",
       "      <td>0</td>\n",
       "      <td>0</td>\n",
       "      <td>0</td>\n",
       "      <td>1</td>\n",
       "      <td>...</td>\n",
       "      <td>1</td>\n",
       "      <td>0</td>\n",
       "      <td>1</td>\n",
       "      <td>1</td>\n",
       "      <td>0</td>\n",
       "      <td>0</td>\n",
       "      <td>0</td>\n",
       "      <td>1</td>\n",
       "      <td>1</td>\n",
       "      <td>0</td>\n",
       "    </tr>\n",
       "    <tr>\n",
       "      <th>79610</th>\n",
       "      <td>0</td>\n",
       "      <td>0</td>\n",
       "      <td>1</td>\n",
       "      <td>0</td>\n",
       "      <td>1</td>\n",
       "      <td>0</td>\n",
       "      <td>0</td>\n",
       "      <td>1</td>\n",
       "      <td>0</td>\n",
       "      <td>0</td>\n",
       "      <td>...</td>\n",
       "      <td>1</td>\n",
       "      <td>0</td>\n",
       "      <td>1</td>\n",
       "      <td>1</td>\n",
       "      <td>0</td>\n",
       "      <td>0</td>\n",
       "      <td>0</td>\n",
       "      <td>0</td>\n",
       "      <td>1</td>\n",
       "      <td>0</td>\n",
       "    </tr>\n",
       "    <tr>\n",
       "      <th>78567</th>\n",
       "      <td>0</td>\n",
       "      <td>0</td>\n",
       "      <td>0</td>\n",
       "      <td>0</td>\n",
       "      <td>0</td>\n",
       "      <td>1</td>\n",
       "      <td>0</td>\n",
       "      <td>1</td>\n",
       "      <td>0</td>\n",
       "      <td>0</td>\n",
       "      <td>...</td>\n",
       "      <td>0</td>\n",
       "      <td>0</td>\n",
       "      <td>1</td>\n",
       "      <td>0</td>\n",
       "      <td>0</td>\n",
       "      <td>0</td>\n",
       "      <td>0</td>\n",
       "      <td>0</td>\n",
       "      <td>0</td>\n",
       "      <td>0</td>\n",
       "    </tr>\n",
       "    <tr>\n",
       "      <th>66245</th>\n",
       "      <td>0</td>\n",
       "      <td>0</td>\n",
       "      <td>0</td>\n",
       "      <td>0</td>\n",
       "      <td>0</td>\n",
       "      <td>0</td>\n",
       "      <td>0</td>\n",
       "      <td>0</td>\n",
       "      <td>0</td>\n",
       "      <td>1</td>\n",
       "      <td>...</td>\n",
       "      <td>1</td>\n",
       "      <td>0</td>\n",
       "      <td>0</td>\n",
       "      <td>1</td>\n",
       "      <td>0</td>\n",
       "      <td>1</td>\n",
       "      <td>0</td>\n",
       "      <td>0</td>\n",
       "      <td>1</td>\n",
       "      <td>0</td>\n",
       "    </tr>\n",
       "    <tr>\n",
       "      <th>58860</th>\n",
       "      <td>0</td>\n",
       "      <td>0</td>\n",
       "      <td>0</td>\n",
       "      <td>0</td>\n",
       "      <td>0</td>\n",
       "      <td>1</td>\n",
       "      <td>0</td>\n",
       "      <td>0</td>\n",
       "      <td>0</td>\n",
       "      <td>0</td>\n",
       "      <td>...</td>\n",
       "      <td>0</td>\n",
       "      <td>0</td>\n",
       "      <td>1</td>\n",
       "      <td>1</td>\n",
       "      <td>0</td>\n",
       "      <td>0</td>\n",
       "      <td>0</td>\n",
       "      <td>0</td>\n",
       "      <td>1</td>\n",
       "      <td>0</td>\n",
       "    </tr>\n",
       "  </tbody>\n",
       "</table>\n",
       "<p>114 rows × 48 columns</p>\n",
       "</div>"
      ],
      "text/plain": [
       "      0  1  2  3  4  5  6  7  8  9   ... 38 39 40 41 42 43 44 45 46 47\n",
       "407    1  1  1  0  1  1  1  1  1  1  ...  1  1  1  1  0  1  1  1  1  1\n",
       "62868  1  1  1  0  1  1  1  0  1  1  ...  1  1  1  1  0  1  1  1  1  1\n",
       "80492  1  1  1  0  1  1  1  1  1  1  ...  1  0  1  1  0  1  1  1  1  1\n",
       "4989   1  1  1  0  1  1  1  1  1  1  ...  1  0  1  1  0  1  1  1  1  1\n",
       "71566  1  1  1  0  1  1  1  1  1  1  ...  1  1  1  1  0  1  1  1  1  1\n",
       "...   .. .. .. .. .. .. .. .. .. ..  ... .. .. .. .. .. .. .. .. .. ..\n",
       "53700  0  0  1  0  0  1  0  0  0  1  ...  1  0  1  1  0  0  0  1  1  0\n",
       "79610  0  0  1  0  1  0  0  1  0  0  ...  1  0  1  1  0  0  0  0  1  0\n",
       "78567  0  0  0  0  0  1  0  1  0  0  ...  0  0  1  0  0  0  0  0  0  0\n",
       "66245  0  0  0  0  0  0  0  0  0  1  ...  1  0  0  1  0  1  0  0  1  0\n",
       "58860  0  0  0  0  0  1  0  0  0  0  ...  0  0  1  1  0  0  0  0  1  0\n",
       "\n",
       "[114 rows x 48 columns]"
      ]
     },
     "execution_count": 124,
     "metadata": {},
     "output_type": "execute_result"
    }
   ],
   "source": [
    "answers[6953]"
   ]
  },
  {
   "cell_type": "code",
   "execution_count": 125,
   "metadata": {
    "id": "0URcC0Q3VEYJ"
   },
   "outputs": [],
   "source": [
    "with open(\"results.pkl\",\"wb\") as f:\n",
    "    pickle.dump(results, f)\n",
    "\n",
    "with open(\"players.pkl\",\"wb\") as f:\n",
    "    pickle.dump(players, f)\n",
    "\n",
    "with open(\"answers.pkl\",\"wb\") as f:\n",
    "    pickle.dump(answers, f)"
   ]
  },
  {
   "cell_type": "markdown",
   "metadata": {},
   "source": [
    "# Анализ"
   ]
  },
  {
   "cell_type": "code",
   "execution_count": 131,
   "metadata": {},
   "outputs": [
    {
     "name": "stdout",
     "output_type": "stream",
     "text": [
      "Всего турниров - 1000\n",
      "Всего участников - 565948\n",
      "Уникальних участников - 61348\n",
      "Всего команд - 109183\n",
      "Уникальних команд - 11900\n"
     ]
    }
   ],
   "source": [
    "members = {}\n",
    "total_members = 0\n",
    "total_teams = []\n",
    "for tour in results:\n",
    "    for team in results[tour]:\n",
    "        number = len(results[tour][team]['teamMembers'])\n",
    "        if number not in members:\n",
    "            members[number] = 0\n",
    "        members[number] += 1\n",
    "        total_members += number\n",
    "        total_teams.append(team)\n",
    "print('Всего турниров - {}\\n'\n",
    "      'Всего участников - {}\\n'\n",
    "      'Уникальних участников - {}\\n'\n",
    "      'Всего команд - {}\\n'\n",
    "      'Уникальних команд - {}'\n",
    "      .format(len(results), total_members, len(players), len(total_teams), len(set(total_teams))))"
   ]
  },
  {
   "cell_type": "code",
   "execution_count": 132,
   "metadata": {},
   "outputs": [
    {
     "data": {
      "text/plain": [
       "{0: 372,\n",
       " 1: 786,\n",
       " 2: 2548,\n",
       " 3: 6767,\n",
       " 4: 15661,\n",
       " 5: 26385,\n",
       " 6: 52710,\n",
       " 7: 2920,\n",
       " 8: 842,\n",
       " 9: 173,\n",
       " 10: 12,\n",
       " 11: 3,\n",
       " 12: 2,\n",
       " 13: 2}"
      ]
     },
     "execution_count": 132,
     "metadata": {},
     "output_type": "execute_result"
    }
   ],
   "source": [
    "members = dict(sorted(members.items()))\n",
    "members"
   ]
  },
  {
   "cell_type": "code",
   "execution_count": 133,
   "metadata": {},
   "outputs": [
    {
     "data": {
      "image/png": "[encoded data removed]",
      "text/plain": [
       "<Figure size 864x432 with 1 Axes>"
      ]
     },
     "metadata": {
      "needs_background": "light"
     },
     "output_type": "display_data"
    }
   ],
   "source": [
    "import matplotlib.pyplot as plt\n",
    "\n",
    "fig, ax = plt.subplots()\n",
    "\n",
    "ax.bar(members.keys(), members.values())\n",
    "ax.set_xlabel(\"Количество игроков в команде\", fontsize=20)\n",
    "ax.set_ylabel(\"Количество команд\", fontsize=20)\n",
    "\n",
    "fig.set_figwidth(12)\n",
    "fig.set_figheight(6)\n",
    "\n",
    "plt.show()"
   ]
  }
 ],
 "metadata": {
  "accelerator": "GPU",
  "colab": {
   "collapsed_sections": [
    "yLClXwIi-u3V",
    "8HNKEgSmbO0S",
    "gGiN7ZPCDycn",
    "tj4thqzQOC4J",
    "UcDbCtPGiQv9"
   ],
   "name": "Работа мощной команды.ipynb",
   "provenance": []
  },
  "kernelspec": {
   "display_name": "Python 3",
   "language": "python",
   "name": "python3"
  },
  "language_info": {
   "codemirror_mode": {
    "name": "ipython",
    "version": 3
   },
   "file_extension": ".py",
   "mimetype": "text/x-python",
   "name": "python",
   "nbconvert_exporter": "python",
   "pygments_lexer": "ipython3",
   "version": "3.6.9"
  }
 },
 "nbformat": 4,
 "nbformat_minor": 1
}
